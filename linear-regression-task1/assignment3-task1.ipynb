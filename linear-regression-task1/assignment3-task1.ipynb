{
 "cells": [
  {
   "cell_type": "code",
   "execution_count": 11,
   "id": "e1345b1b-071b-4853-b6d0-c732fd2284a8",
   "metadata": {
    "tags": []
   },
   "outputs": [],
   "source": [
    "import numpy as np\n",
    "import pandas as pd\n",
    "import statsmodels.api as sm\n",
    "from sklearn.preprocessing import StandardScaler"
   ]
  },
  {
   "cell_type": "code",
   "execution_count": 12,
   "id": "22f46665-c9f0-40d0-97fb-55c11a0060e2",
   "metadata": {
    "tags": []
   },
   "outputs": [
    {
     "name": "stdout",
     "output_type": "stream",
     "text": [
      "<class 'pandas.core.frame.DataFrame'>\n",
      "RangeIndex: 1250 entries, 0 to 1249\n",
      "Data columns (total 8 columns):\n",
      " #   Column    Non-Null Count  Dtype  \n",
      "---  ------    --------------  -----  \n",
      " 0   age       1250 non-null   int64  \n",
      " 1   gender    1250 non-null   object \n",
      " 2   BMI       1250 non-null   float64\n",
      " 3   weight    1248 non-null   float64\n",
      " 4   children  1250 non-null   int64  \n",
      " 5   smoker    1249 non-null   object \n",
      " 6   region    1250 non-null   object \n",
      " 7   expenses  1248 non-null   float64\n",
      "dtypes: float64(3), int64(2), object(3)\n",
      "memory usage: 78.3+ KB\n"
     ]
    }
   ],
   "source": [
    "df = pd.read_csv('insurance_data.csv')\n",
    "df.info()"
   ]
  },
  {
   "cell_type": "code",
   "execution_count": 13,
   "id": "479584e7-c40f-4b18-8da1-fcdb0cd72f65",
   "metadata": {
    "tags": []
   },
   "outputs": [],
   "source": [
    "# comments:\n",
    "\n",
    "# (1) there is a small amount of rows with missing values - they can be dropped\n",
    "\n",
    "# (2) you may want to make use of https://pandas.pydata.org/docs/reference/api/pandas.get_dummies.html\n",
    "# read through the function documentation carefully, and use dtype=float for the \"dtype\" parameter\n",
    "\n",
    "# (3) perform all your computations (solve the task) before the questions part, in a complete, clear and effective manner\n",
    "\n",
    "# (4) in the questions part only print answers based on your solution"
   ]
  },
  {
   "cell_type": "markdown",
   "id": "8a9fde00-e9c9-4c3a-9465-52ce924a08ff",
   "metadata": {},
   "source": [
    "#### Drop missing values, change categorical values to numerical and check multi-colinearity"
   ]
  },
  {
   "cell_type": "code",
   "execution_count": 14,
   "id": "583d3457-5cc5-4da5-86d4-d6032ab9e681",
   "metadata": {},
   "outputs": [
    {
     "name": "stdout",
     "output_type": "stream",
     "text": [
      "                       age       BMI    weight  children  expenses  \\\n",
      "age               1.000000  0.110487  0.095153 -0.047744  0.297255   \n",
      "BMI               0.110487  1.000000  0.702751  0.019617  0.204042   \n",
      "weight            0.095153  0.702751  1.000000  0.041461  0.139946   \n",
      "children         -0.047744  0.019617  0.041461  1.000000 -0.017320   \n",
      "expenses          0.297255  0.204042  0.139946 -0.017320  1.000000   \n",
      "gender_male      -0.027751  0.040130  0.031041 -0.035967  0.048353   \n",
      "smoker_yes       -0.028560  0.009467  0.018486 -0.022356  0.786897   \n",
      "region_northwest -0.009372 -0.143934 -0.098967  0.025904 -0.044917   \n",
      "region_southeast -0.018734  0.278327  0.234791  0.042594  0.081188   \n",
      "region_southwest  0.021022 -0.014695 -0.006866 -0.041533 -0.049730   \n",
      "\n",
      "                  gender_male  smoker_yes  region_northwest  region_southeast  \\\n",
      "age                 -0.027751   -0.028560         -0.009372         -0.018734   \n",
      "BMI                  0.040130    0.009467         -0.143934          0.278327   \n",
      "weight               0.031041    0.018486         -0.098967          0.234791   \n",
      "children            -0.035967   -0.022356          0.025904          0.042594   \n",
      "expenses             0.048353    0.786897         -0.044917          0.081188   \n",
      "gender_male          1.000000    0.070157         -0.008706          0.014111   \n",
      "smoker_yes           0.070157    1.000000         -0.041320          0.080366   \n",
      "region_northwest    -0.008706   -0.041320          1.000000         -0.350439   \n",
      "region_southeast     0.014111    0.080366         -0.350439          1.000000   \n",
      "region_southwest    -0.002994   -0.041536         -0.318148         -0.346617   \n",
      "\n",
      "                  region_southwest  \n",
      "age                       0.021022  \n",
      "BMI                      -0.014695  \n",
      "weight                   -0.006866  \n",
      "children                 -0.041533  \n",
      "expenses                 -0.049730  \n",
      "gender_male              -0.002994  \n",
      "smoker_yes               -0.041536  \n",
      "region_northwest         -0.318148  \n",
      "region_southeast         -0.346617  \n",
      "region_southwest          1.000000  \n"
     ]
    }
   ],
   "source": [
    "# Remove all the rows with the missing values\n",
    "df.dropna(inplace=True) \n",
    "\n",
    "# Change categorical values to numerical\n",
    "df_no_dummies = pd.get_dummies(df, columns=['gender', 'smoker', 'region'], drop_first=True, dtype=float)\n",
    "\n",
    "#check multi-colinearity\n",
    "print(df_no_dummies.corr())"
   ]
  },
  {
   "cell_type": "code",
   "execution_count": 15,
   "id": "b6aeec23-8a02-4d1d-b02b-6a0d24af32cd",
   "metadata": {},
   "outputs": [],
   "source": [
    "# Convert categorical variables into numerical dummy variables\n",
    "\n",
    "df_train=df_no_dummies\n",
    "\n",
    "# Shuffle the dataframe and reset the index\n",
    "#df_train = df_train.sample(frac=1).reset_index(drop=True)\n",
    "#df_train.head\n",
    "#x = df_train.drop(['weight', 'expenses', 'region_northwest', 'region_southwest', 'children', 'gender_male'], axis=1)\n",
    "#x = df_train.drop(['weight', 'expenses', 'children', 'gender_male'], axis=1)\n",
    "#x = df_train.drop(['weight', 'expenses', 'region_northwest', 'region_southwest', 'region_southeast', 'children', 'gender_male'], axis=1)\n",
    "x_train = df_train.drop(['weight', 'expenses', 'region_northwest', 'children', 'gender_male'], axis=1)\n",
    "y_train = df['expenses']"
   ]
  },
  {
   "cell_type": "markdown",
   "id": "7feaee35-228a-4939-9e61-61442f3baae0",
   "metadata": {},
   "source": [
    "#### Train model"
   ]
  },
  {
   "cell_type": "code",
   "execution_count": 16,
   "id": "907df03d-7513-491e-9a5a-1ef35ebeac87",
   "metadata": {},
   "outputs": [
    {
     "data": {
      "text/html": [
       "<table class=\"simpletable\">\n",
       "<caption>OLS Regression Results</caption>\n",
       "<tr>\n",
       "  <th>Dep. Variable:</th>        <td>expenses</td>     <th>  R-squared:         </th> <td>   0.749</td> \n",
       "</tr>\n",
       "<tr>\n",
       "  <th>Model:</th>                   <td>OLS</td>       <th>  Adj. R-squared:    </th> <td>   0.748</td> \n",
       "</tr>\n",
       "<tr>\n",
       "  <th>Method:</th>             <td>Least Squares</td>  <th>  F-statistic:       </th> <td>   740.7</td> \n",
       "</tr>\n",
       "<tr>\n",
       "  <th>Date:</th>             <td>Sat, 17 May 2025</td> <th>  Prob (F-statistic):</th>  <td>  0.00</td>  \n",
       "</tr>\n",
       "<tr>\n",
       "  <th>Time:</th>                 <td>12:45:50</td>     <th>  Log-Likelihood:    </th> <td> -12605.</td> \n",
       "</tr>\n",
       "<tr>\n",
       "  <th>No. Observations:</th>      <td>  1245</td>      <th>  AIC:               </th> <td>2.522e+04</td>\n",
       "</tr>\n",
       "<tr>\n",
       "  <th>Df Residuals:</th>          <td>  1239</td>      <th>  BIC:               </th> <td>2.525e+04</td>\n",
       "</tr>\n",
       "<tr>\n",
       "  <th>Df Model:</th>              <td>     5</td>      <th>                     </th>     <td> </td>    \n",
       "</tr>\n",
       "<tr>\n",
       "  <th>Covariance Type:</th>      <td>nonrobust</td>    <th>                     </th>     <td> </td>    \n",
       "</tr>\n",
       "</table>\n",
       "<table class=\"simpletable\">\n",
       "<tr>\n",
       "          <td></td>            <th>coef</th>     <th>std err</th>      <th>t</th>      <th>P>|t|</th>  <th>[0.025</th>    <th>0.975]</th>  \n",
       "</tr>\n",
       "<tr>\n",
       "  <th>const</th>            <td>-1.432e+04</td> <td> 1031.334</td> <td>  -13.889</td> <td> 0.000</td> <td>-1.63e+04</td> <td>-1.23e+04</td>\n",
       "</tr>\n",
       "<tr>\n",
       "  <th>age</th>              <td>  258.7057</td> <td>   12.327</td> <td>   20.987</td> <td> 0.000</td> <td>  234.522</td> <td>  282.890</td>\n",
       "</tr>\n",
       "<tr>\n",
       "  <th>BMI</th>              <td>  341.7059</td> <td>   29.583</td> <td>   11.551</td> <td> 0.000</td> <td>  283.668</td> <td>  399.744</td>\n",
       "</tr>\n",
       "<tr>\n",
       "  <th>smoker_yes</th>       <td> 2.394e+04</td> <td>  429.783</td> <td>   55.712</td> <td> 0.000</td> <td> 2.31e+04</td> <td> 2.48e+04</td>\n",
       "</tr>\n",
       "<tr>\n",
       "  <th>region_southeast</th> <td> -991.5815</td> <td>  428.987</td> <td>   -2.311</td> <td> 0.021</td> <td>-1833.203</td> <td> -149.960</td>\n",
       "</tr>\n",
       "<tr>\n",
       "  <th>region_southwest</th> <td> -938.8055</td> <td>  430.381</td> <td>   -2.181</td> <td> 0.029</td> <td>-1783.161</td> <td>  -94.450</td>\n",
       "</tr>\n",
       "</table>\n",
       "<table class=\"simpletable\">\n",
       "<tr>\n",
       "  <th>Omnibus:</th>       <td>268.187</td> <th>  Durbin-Watson:     </th> <td>   2.081</td> \n",
       "</tr>\n",
       "<tr>\n",
       "  <th>Prob(Omnibus):</th> <td> 0.000</td>  <th>  Jarque-Bera (JB):  </th> <td> 604.425</td> \n",
       "</tr>\n",
       "<tr>\n",
       "  <th>Skew:</th>          <td> 1.187</td>  <th>  Prob(JB):          </th> <td>5.63e-132</td>\n",
       "</tr>\n",
       "<tr>\n",
       "  <th>Kurtosis:</th>      <td> 5.453</td>  <th>  Cond. No.          </th> <td>    359.</td> \n",
       "</tr>\n",
       "</table><br/><br/>Notes:<br/>[1] Standard Errors assume that the covariance matrix of the errors is correctly specified."
      ],
      "text/latex": [
       "\\begin{center}\n",
       "\\begin{tabular}{lclc}\n",
       "\\toprule\n",
       "\\textbf{Dep. Variable:}    &     expenses     & \\textbf{  R-squared:         } &     0.749   \\\\\n",
       "\\textbf{Model:}            &       OLS        & \\textbf{  Adj. R-squared:    } &     0.748   \\\\\n",
       "\\textbf{Method:}           &  Least Squares   & \\textbf{  F-statistic:       } &     740.7   \\\\\n",
       "\\textbf{Date:}             & Sat, 17 May 2025 & \\textbf{  Prob (F-statistic):} &     0.00    \\\\\n",
       "\\textbf{Time:}             &     12:45:50     & \\textbf{  Log-Likelihood:    } &   -12605.   \\\\\n",
       "\\textbf{No. Observations:} &        1245      & \\textbf{  AIC:               } & 2.522e+04   \\\\\n",
       "\\textbf{Df Residuals:}     &        1239      & \\textbf{  BIC:               } & 2.525e+04   \\\\\n",
       "\\textbf{Df Model:}         &           5      & \\textbf{                     } &             \\\\\n",
       "\\textbf{Covariance Type:}  &    nonrobust     & \\textbf{                     } &             \\\\\n",
       "\\bottomrule\n",
       "\\end{tabular}\n",
       "\\begin{tabular}{lcccccc}\n",
       "                           & \\textbf{coef} & \\textbf{std err} & \\textbf{t} & \\textbf{P$> |$t$|$} & \\textbf{[0.025} & \\textbf{0.975]}  \\\\\n",
       "\\midrule\n",
       "\\textbf{const}             &   -1.432e+04  &     1031.334     &   -13.889  &         0.000        &    -1.63e+04    &    -1.23e+04     \\\\\n",
       "\\textbf{age}               &     258.7057  &       12.327     &    20.987  &         0.000        &      234.522    &      282.890     \\\\\n",
       "\\textbf{BMI}               &     341.7059  &       29.583     &    11.551  &         0.000        &      283.668    &      399.744     \\\\\n",
       "\\textbf{smoker\\_yes}       &    2.394e+04  &      429.783     &    55.712  &         0.000        &     2.31e+04    &     2.48e+04     \\\\\n",
       "\\textbf{region\\_southeast} &    -991.5815  &      428.987     &    -2.311  &         0.021        &    -1833.203    &     -149.960     \\\\\n",
       "\\textbf{region\\_southwest} &    -938.8055  &      430.381     &    -2.181  &         0.029        &    -1783.161    &      -94.450     \\\\\n",
       "\\bottomrule\n",
       "\\end{tabular}\n",
       "\\begin{tabular}{lclc}\n",
       "\\textbf{Omnibus:}       & 268.187 & \\textbf{  Durbin-Watson:     } &     2.081  \\\\\n",
       "\\textbf{Prob(Omnibus):} &   0.000 & \\textbf{  Jarque-Bera (JB):  } &   604.425  \\\\\n",
       "\\textbf{Skew:}          &   1.187 & \\textbf{  Prob(JB):          } & 5.63e-132  \\\\\n",
       "\\textbf{Kurtosis:}      &   5.453 & \\textbf{  Cond. No.          } &      359.  \\\\\n",
       "\\bottomrule\n",
       "\\end{tabular}\n",
       "%\\caption{OLS Regression Results}\n",
       "\\end{center}\n",
       "\n",
       "Notes: \\newline\n",
       " [1] Standard Errors assume that the covariance matrix of the errors is correctly specified."
      ],
      "text/plain": [
       "<class 'statsmodels.iolib.summary.Summary'>\n",
       "\"\"\"\n",
       "                            OLS Regression Results                            \n",
       "==============================================================================\n",
       "Dep. Variable:               expenses   R-squared:                       0.749\n",
       "Model:                            OLS   Adj. R-squared:                  0.748\n",
       "Method:                 Least Squares   F-statistic:                     740.7\n",
       "Date:                Sat, 17 May 2025   Prob (F-statistic):               0.00\n",
       "Time:                        12:45:50   Log-Likelihood:                -12605.\n",
       "No. Observations:                1245   AIC:                         2.522e+04\n",
       "Df Residuals:                    1239   BIC:                         2.525e+04\n",
       "Df Model:                           5                                         \n",
       "Covariance Type:            nonrobust                                         \n",
       "====================================================================================\n",
       "                       coef    std err          t      P>|t|      [0.025      0.975]\n",
       "------------------------------------------------------------------------------------\n",
       "const            -1.432e+04   1031.334    -13.889      0.000   -1.63e+04   -1.23e+04\n",
       "age                258.7057     12.327     20.987      0.000     234.522     282.890\n",
       "BMI                341.7059     29.583     11.551      0.000     283.668     399.744\n",
       "smoker_yes        2.394e+04    429.783     55.712      0.000    2.31e+04    2.48e+04\n",
       "region_southeast  -991.5815    428.987     -2.311      0.021   -1833.203    -149.960\n",
       "region_southwest  -938.8055    430.381     -2.181      0.029   -1783.161     -94.450\n",
       "==============================================================================\n",
       "Omnibus:                      268.187   Durbin-Watson:                   2.081\n",
       "Prob(Omnibus):                  0.000   Jarque-Bera (JB):              604.425\n",
       "Skew:                           1.187   Prob(JB):                    5.63e-132\n",
       "Kurtosis:                       5.453   Cond. No.                         359.\n",
       "==============================================================================\n",
       "\n",
       "Notes:\n",
       "[1] Standard Errors assume that the covariance matrix of the errors is correctly specified.\n",
       "\"\"\""
      ]
     },
     "execution_count": 16,
     "metadata": {},
     "output_type": "execute_result"
    }
   ],
   "source": [
    "x_train = sm.add_constant(x_train)\n",
    "model = sm.OLS(y_train, x_train)\n",
    "result = model.fit()\n",
    "\n",
    "result.summary()"
   ]
  },
  {
   "cell_type": "markdown",
   "id": "8687ed18",
   "metadata": {},
   "source": [
    "#### Question 3 - Calculation"
   ]
  },
  {
   "cell_type": "code",
   "execution_count": 20,
   "id": "461156d3",
   "metadata": {},
   "outputs": [
    {
     "data": {
      "text/html": [
       "<table class=\"simpletable\">\n",
       "<caption>OLS Regression Results</caption>\n",
       "<tr>\n",
       "  <th>Dep. Variable:</th>        <td>expenses</td>     <th>  R-squared:         </th> <td>   0.701</td> \n",
       "</tr>\n",
       "<tr>\n",
       "  <th>Model:</th>                   <td>OLS</td>       <th>  Adj. R-squared:    </th> <td>   0.700</td> \n",
       "</tr>\n",
       "<tr>\n",
       "  <th>Method:</th>             <td>Least Squares</td>  <th>  F-statistic:       </th> <td>   727.5</td> \n",
       "</tr>\n",
       "<tr>\n",
       "  <th>Date:</th>             <td>Sat, 17 May 2025</td> <th>  Prob (F-statistic):</th> <td>2.47e-323</td>\n",
       "</tr>\n",
       "<tr>\n",
       "  <th>Time:</th>                 <td>12:47:00</td>     <th>  Log-Likelihood:    </th> <td> -1014.6</td> \n",
       "</tr>\n",
       "<tr>\n",
       "  <th>No. Observations:</th>      <td>  1245</td>      <th>  AIC:               </th> <td>   2039.</td> \n",
       "</tr>\n",
       "<tr>\n",
       "  <th>Df Residuals:</th>          <td>  1240</td>      <th>  BIC:               </th> <td>   2065.</td> \n",
       "</tr>\n",
       "<tr>\n",
       "  <th>Df Model:</th>              <td>     4</td>      <th>                     </th>     <td> </td>    \n",
       "</tr>\n",
       "<tr>\n",
       "  <th>Covariance Type:</th>      <td>nonrobust</td>    <th>                     </th>     <td> </td>    \n",
       "</tr>\n",
       "</table>\n",
       "<table class=\"simpletable\">\n",
       "<tr>\n",
       "       <td></td>         <th>coef</th>     <th>std err</th>      <th>t</th>      <th>P>|t|</th>  <th>[0.025</th>    <th>0.975]</th>  \n",
       "</tr>\n",
       "<tr>\n",
       "  <th>const</th>      <td>-2.822e-16</td> <td>    0.016</td> <td>-1.82e-14</td> <td> 1.000</td> <td>   -0.030</td> <td>    0.030</td>\n",
       "</tr>\n",
       "<tr>\n",
       "  <th>age</th>        <td>   -0.2823</td> <td>    0.016</td> <td>  -17.316</td> <td> 0.000</td> <td>   -0.314</td> <td>   -0.250</td>\n",
       "</tr>\n",
       "<tr>\n",
       "  <th>BMI</th>        <td>   -0.0786</td> <td>    0.016</td> <td>   -5.004</td> <td> 0.000</td> <td>   -0.109</td> <td>   -0.048</td>\n",
       "</tr>\n",
       "<tr>\n",
       "  <th>children</th>   <td>    0.8807</td> <td>    0.016</td> <td>   53.714</td> <td> 0.000</td> <td>    0.849</td> <td>    0.913</td>\n",
       "</tr>\n",
       "<tr>\n",
       "  <th>smoker_yes</th> <td>    0.0222</td> <td>    0.016</td> <td>    1.425</td> <td> 0.154</td> <td>   -0.008</td> <td>    0.053</td>\n",
       "</tr>\n",
       "</table>\n",
       "<table class=\"simpletable\">\n",
       "<tr>\n",
       "  <th>Omnibus:</th>       <td>152.967</td> <th>  Durbin-Watson:     </th> <td>   2.008</td> \n",
       "</tr>\n",
       "<tr>\n",
       "  <th>Prob(Omnibus):</th> <td> 0.000</td>  <th>  Jarque-Bera (JB):  </th> <td> 640.308</td> \n",
       "</tr>\n",
       "<tr>\n",
       "  <th>Skew:</th>          <td> 0.516</td>  <th>  Prob(JB):          </th> <td>9.10e-140</td>\n",
       "</tr>\n",
       "<tr>\n",
       "  <th>Kurtosis:</th>      <td> 6.358</td>  <th>  Cond. No.          </th> <td>    1.41</td> \n",
       "</tr>\n",
       "</table><br/><br/>Notes:<br/>[1] Standard Errors assume that the covariance matrix of the errors is correctly specified."
      ],
      "text/latex": [
       "\\begin{center}\n",
       "\\begin{tabular}{lclc}\n",
       "\\toprule\n",
       "\\textbf{Dep. Variable:}    &     expenses     & \\textbf{  R-squared:         } &     0.701   \\\\\n",
       "\\textbf{Model:}            &       OLS        & \\textbf{  Adj. R-squared:    } &     0.700   \\\\\n",
       "\\textbf{Method:}           &  Least Squares   & \\textbf{  F-statistic:       } &     727.5   \\\\\n",
       "\\textbf{Date:}             & Sat, 17 May 2025 & \\textbf{  Prob (F-statistic):} & 2.47e-323   \\\\\n",
       "\\textbf{Time:}             &     12:47:00     & \\textbf{  Log-Likelihood:    } &   -1014.6   \\\\\n",
       "\\textbf{No. Observations:} &        1245      & \\textbf{  AIC:               } &     2039.   \\\\\n",
       "\\textbf{Df Residuals:}     &        1240      & \\textbf{  BIC:               } &     2065.   \\\\\n",
       "\\textbf{Df Model:}         &           4      & \\textbf{                     } &             \\\\\n",
       "\\textbf{Covariance Type:}  &    nonrobust     & \\textbf{                     } &             \\\\\n",
       "\\bottomrule\n",
       "\\end{tabular}\n",
       "\\begin{tabular}{lcccccc}\n",
       "                     & \\textbf{coef} & \\textbf{std err} & \\textbf{t} & \\textbf{P$> |$t$|$} & \\textbf{[0.025} & \\textbf{0.975]}  \\\\\n",
       "\\midrule\n",
       "\\textbf{const}       &   -2.822e-16  &        0.016     & -1.82e-14  &         1.000        &       -0.030    &        0.030     \\\\\n",
       "\\textbf{age}         &      -0.2823  &        0.016     &   -17.316  &         0.000        &       -0.314    &       -0.250     \\\\\n",
       "\\textbf{BMI}         &      -0.0786  &        0.016     &    -5.004  &         0.000        &       -0.109    &       -0.048     \\\\\n",
       "\\textbf{children}    &       0.8807  &        0.016     &    53.714  &         0.000        &        0.849    &        0.913     \\\\\n",
       "\\textbf{smoker\\_yes} &       0.0222  &        0.016     &     1.425  &         0.154        &       -0.008    &        0.053     \\\\\n",
       "\\bottomrule\n",
       "\\end{tabular}\n",
       "\\begin{tabular}{lclc}\n",
       "\\textbf{Omnibus:}       & 152.967 & \\textbf{  Durbin-Watson:     } &     2.008  \\\\\n",
       "\\textbf{Prob(Omnibus):} &   0.000 & \\textbf{  Jarque-Bera (JB):  } &   640.308  \\\\\n",
       "\\textbf{Skew:}          &   0.516 & \\textbf{  Prob(JB):          } & 9.10e-140  \\\\\n",
       "\\textbf{Kurtosis:}      &   6.358 & \\textbf{  Cond. No.          } &      1.41  \\\\\n",
       "\\bottomrule\n",
       "\\end{tabular}\n",
       "%\\caption{OLS Regression Results}\n",
       "\\end{center}\n",
       "\n",
       "Notes: \\newline\n",
       " [1] Standard Errors assume that the covariance matrix of the errors is correctly specified."
      ],
      "text/plain": [
       "<class 'statsmodels.iolib.summary.Summary'>\n",
       "\"\"\"\n",
       "                            OLS Regression Results                            \n",
       "==============================================================================\n",
       "Dep. Variable:               expenses   R-squared:                       0.701\n",
       "Model:                            OLS   Adj. R-squared:                  0.700\n",
       "Method:                 Least Squares   F-statistic:                     727.5\n",
       "Date:                Sat, 17 May 2025   Prob (F-statistic):          2.47e-323\n",
       "Time:                        12:47:00   Log-Likelihood:                -1014.6\n",
       "No. Observations:                1245   AIC:                             2039.\n",
       "Df Residuals:                    1240   BIC:                             2065.\n",
       "Df Model:                           4                                         \n",
       "Covariance Type:            nonrobust                                         \n",
       "==============================================================================\n",
       "                 coef    std err          t      P>|t|      [0.025      0.975]\n",
       "------------------------------------------------------------------------------\n",
       "const      -2.822e-16      0.016  -1.82e-14      1.000      -0.030       0.030\n",
       "age           -0.2823      0.016    -17.316      0.000      -0.314      -0.250\n",
       "BMI           -0.0786      0.016     -5.004      0.000      -0.109      -0.048\n",
       "children       0.8807      0.016     53.714      0.000       0.849       0.913\n",
       "smoker_yes     0.0222      0.016      1.425      0.154      -0.008       0.053\n",
       "==============================================================================\n",
       "Omnibus:                      152.967   Durbin-Watson:                   2.008\n",
       "Prob(Omnibus):                  0.000   Jarque-Bera (JB):              640.308\n",
       "Skew:                           0.516   Prob(JB):                    9.10e-140\n",
       "Kurtosis:                       6.358   Cond. No.                         1.41\n",
       "==============================================================================\n",
       "\n",
       "Notes:\n",
       "[1] Standard Errors assume that the covariance matrix of the errors is correctly specified.\n",
       "\"\"\""
      ]
     },
     "execution_count": 20,
     "metadata": {},
     "output_type": "execute_result"
    }
   ],
   "source": [
    "df_train.head()\n",
    "df_scaled = df_train.copy()\n",
    "df_scaled.drop(['region_northwest', 'region_southwest', 'region_southeast',], axis=1, inplace=True)\n",
    "\n",
    "scaler = StandardScaler()\n",
    "scaler.fit(df_scaled)\n",
    "predictors_scaled = scaler.transform(df_scaled)\n",
    "\n",
    "df = df.sample(frac=1).reset_index(drop = True)\n",
    "df_scaled = pd.DataFrame(predictors_scaled, columns=[\"age\",\"gender_male\",\"BMI\",\"weight\",\"children\",\"smoker_yes\",\"expenses\"])\n",
    "\n",
    "x = df_scaled[[\"age\",\"BMI\",\"children\",\"smoker_yes\"]] #without weight and gender\n",
    "y = df_scaled[[\"expenses\"]]\n",
    "x = sm.add_constant(x)\n",
    "model = sm.OLS(y,x)\n",
    "result = model.fit()\n",
    "result.summary()"
   ]
  },
  {
   "cell_type": "markdown",
   "id": "37734f07",
   "metadata": {},
   "source": [
    "#### Question 4(1) - Calculation"
   ]
  },
  {
   "cell_type": "code",
   "execution_count": null,
   "id": "50b62fb3",
   "metadata": {},
   "outputs": [],
   "source": [
    "x = df_train.drop(['expenses'], axis=1)\n",
    "y = df_train['expenses']\n",
    "\n",
    "x = sm.add_constant(x)\n",
    "model = sm.OLS(y, x)\n",
    "result_4_1  = model.fit()\n",
    "\n",
    "result_4_1 .summary()"
   ]
  },
  {
   "cell_type": "markdown",
   "id": "c16e874d",
   "metadata": {},
   "source": [
    "#### Question 4(2) - Calculation"
   ]
  },
  {
   "cell_type": "code",
   "execution_count": null,
   "id": "ca6060c4",
   "metadata": {},
   "outputs": [],
   "source": [
    "x = df_train.drop(['expenses','weight'], axis=1)\n",
    "y = df_train['expenses']\n",
    "\n",
    "x = sm.add_constant(x)\n",
    "model = sm.OLS(y, x)\n",
    "result_4_2  = model.fit()\n",
    "\n",
    "result_4_2 .summary()"
   ]
  },
  {
   "cell_type": "code",
   "execution_count": null,
   "id": "65b8c1b7",
   "metadata": {},
   "outputs": [],
   "source": [
    "df_train.corr()"
   ]
  },
  {
   "cell_type": "markdown",
   "id": "0705abf8",
   "metadata": {},
   "source": [
    "#### Question 4(3) - Calculation"
   ]
  },
  {
   "cell_type": "code",
   "execution_count": null,
   "id": "849f8f0a",
   "metadata": {},
   "outputs": [],
   "source": [
    "x = df_train.drop(['expenses','weight','children','gender_male','region_northwest'], axis=1)\n",
    "y = df_train['expenses']\n",
    "\n",
    "x = sm.add_constant(x)\n",
    "model = sm.OLS(y, x)\n",
    "result_4_3  = model.fit()\n",
    "\n",
    "result_4_3 .summary()"
   ]
  },
  {
   "cell_type": "markdown",
   "id": "b91716f7",
   "metadata": {},
   "source": [
    "#### Question 4(4) - Calculation"
   ]
  },
  {
   "cell_type": "code",
   "execution_count": null,
   "id": "055c5b44",
   "metadata": {},
   "outputs": [],
   "source": [
    "x = df_train.drop(['expenses','weight','children','gender_male','region_northwest'], axis=1)\n",
    "scaler = StandardScaler()\n",
    "scaler.fit(x)\n",
    "predictors_scaled = scaler.transform(x)\n",
    "\n",
    "df_scaler=pd.DataFrame(predictors_scaled, columns=x.columns, index=df_train.index)\n",
    "x = sm.add_constant(df_scaler)\n",
    "y= df_train['expenses']\n",
    "\n",
    "\n",
    "model = sm.OLS(y, x)\n",
    "result_4_4 = model.fit()\n",
    "\n",
    "result_4_4.summary()"
   ]
  },
  {
   "cell_type": "markdown",
   "id": "5fdc46eb-6745-496b-9f05-25da4f07fdb4",
   "metadata": {},
   "source": [
    "#### Questions (answer the questions, all computations should precede this part)"
   ]
  },
  {
   "cell_type": "markdown",
   "id": "3bf55d3b-5ab0-4a85-907a-265890678f32",
   "metadata": {},
   "source": [
    "#### Question 1"
   ]
  },
  {
   "cell_type": "code",
   "execution_count": null,
   "id": "0e334107-1631-4a06-a27f-74cfe0c64bea",
   "metadata": {
    "tags": []
   },
   "outputs": [],
   "source": [
    "# did you remove any numerical predictor from the data based on multi-collinearity considerations?\n",
    "# if not - why, if yes - how did you decide on the predictor to remove?\n",
    "# print a short (one-sentence) answer using the print() command"
   ]
  },
  {
   "cell_type": "markdown",
   "id": "2f117eef",
   "metadata": {},
   "source": [
    "#### Question 1 - Solution"
   ]
  },
  {
   "cell_type": "code",
   "execution_count": null,
   "id": "6ddd7248-2ae1-424b-876d-d3f14624467c",
   "metadata": {},
   "outputs": [],
   "source": [
    "print(\"Yes we removed 'weight' because the multi-collinearity with BMI, we also removed 'children' and 'gender_male' because they had low correlation with 'expenses' and we removed 'region_northwest because it has 0 in the CI \")"
   ]
  },
  {
   "cell_type": "markdown",
   "id": "e8dcf249-0a7a-48e6-81dc-b8ffb578f286",
   "metadata": {},
   "source": [
    "#### Question 2"
   ]
  },
  {
   "cell_type": "code",
   "execution_count": null,
   "id": "aa4e2e3a-40af-41e6-a93f-c52c08e6d8c8",
   "metadata": {
    "tags": []
   },
   "outputs": [],
   "source": [
    "# what is the amount of money a person is likely to spend on medical expenses with each additional year of age?\n",
    "# write here the value itself (hardcoded) based on your inspection of the regression summary (after taking care of multi-collinearity)\n",
    "# display your answer as a dataframe (as in assignment 2)"
   ]
  },
  {
   "cell_type": "markdown",
   "id": "a81d5a35",
   "metadata": {},
   "source": [
    "#### Question 2 - Solution"
   ]
  },
  {
   "cell_type": "code",
   "execution_count": null,
   "id": "39c8b0e6",
   "metadata": {},
   "outputs": [],
   "source": [
    "data = {\n",
    "    \"Description\": [\"The amount of money a person is likely to spend on medical expenses with each additional year of age\"],\n",
    "    \"Amount\": [258.7057]\n",
    "}\n",
    "\n",
    "df_amount_per_year = pd.DataFrame(data)\n",
    "\n",
    "df_amount_per_year"
   ]
  },
  {
   "cell_type": "markdown",
   "id": "bbc895f4-027e-47f9-b864-03ac5f0c7115",
   "metadata": {},
   "source": [
    "#### Question 3"
   ]
  },
  {
   "cell_type": "code",
   "execution_count": null,
   "id": "a2f20dcd-e1d1-4bdb-80ec-95ec821dd540",
   "metadata": {
    "tags": []
   },
   "outputs": [],
   "source": [
    "# consider the predictors: age, gender, BMI, weight, children, smoker\n",
    "# what predictors (out of this list) have significant contribution to predicting medical expenses?\n",
    "\n",
    "# report only signifnicant predictors sorted by their contribution to the prediction from highest to lowest\n",
    "# for each predictor specify if it has a positive or a negative effect on the medical expenses\n",
    "\n",
    "# display your answer as a dataframe with two columns: (1) predictor, (2) effect (positive or negative)\n",
    "# no need to include the constant (b_0) value"
   ]
  },
  {
   "cell_type": "markdown",
   "id": "9d5faa21",
   "metadata": {},
   "source": [
    "#### Question 3 - solution"
   ]
  },
  {
   "cell_type": "code",
   "execution_count": 23,
   "id": "89fb2d64",
   "metadata": {},
   "outputs": [
    {
     "data": {
      "application/vnd.microsoft.datawrangler.viewer.v0+json": {
       "columns": [
        {
         "name": "index",
         "rawType": "int64",
         "type": "integer"
        },
        {
         "name": "predictor",
         "rawType": "object",
         "type": "string"
        },
        {
         "name": "Amount",
         "rawType": "object",
         "type": "string"
        }
       ],
       "conversionMethod": "pd.DataFrame",
       "ref": "ed8dc02c-aba7-4026-9a58-d3e5114b05c9",
       "rows": [
        [
         "0",
         "smoking",
         "positive"
        ],
        [
         "1",
         "age",
         "positive"
        ],
        [
         "2",
         "BMI",
         "positive"
        ]
       ],
       "shape": {
        "columns": 2,
        "rows": 3
       }
      },
      "text/html": [
       "<div>\n",
       "<style scoped>\n",
       "    .dataframe tbody tr th:only-of-type {\n",
       "        vertical-align: middle;\n",
       "    }\n",
       "\n",
       "    .dataframe tbody tr th {\n",
       "        vertical-align: top;\n",
       "    }\n",
       "\n",
       "    .dataframe thead th {\n",
       "        text-align: right;\n",
       "    }\n",
       "</style>\n",
       "<table border=\"1\" class=\"dataframe\">\n",
       "  <thead>\n",
       "    <tr style=\"text-align: right;\">\n",
       "      <th></th>\n",
       "      <th>predictor</th>\n",
       "      <th>Amount</th>\n",
       "    </tr>\n",
       "  </thead>\n",
       "  <tbody>\n",
       "    <tr>\n",
       "      <th>0</th>\n",
       "      <td>smoking</td>\n",
       "      <td>positive</td>\n",
       "    </tr>\n",
       "    <tr>\n",
       "      <th>1</th>\n",
       "      <td>age</td>\n",
       "      <td>positive</td>\n",
       "    </tr>\n",
       "    <tr>\n",
       "      <th>2</th>\n",
       "      <td>BMI</td>\n",
       "      <td>positive</td>\n",
       "    </tr>\n",
       "  </tbody>\n",
       "</table>\n",
       "</div>"
      ],
      "text/plain": [
       "  predictor    Amount\n",
       "0   smoking  positive\n",
       "1       age  positive\n",
       "2       BMI  positive"
      ]
     },
     "execution_count": 23,
     "metadata": {},
     "output_type": "execute_result"
    }
   ],
   "source": [
    "data_q3 = {\n",
    "    \"predictor\": [\"smoking\",\"age\", \"BMI\"],\n",
    "    \"Amount\": [\"positive\", \"positive\",\"positive\"]\n",
    "}\n",
    "\n",
    "pd.DataFrame(data_q3)"
   ]
  },
  {
   "cell_type": "markdown",
   "id": "3b37b6b9-4612-4b16-ba1f-d528c5edf60a",
   "metadata": {},
   "source": [
    "#### Question 4"
   ]
  },
  {
   "cell_type": "code",
   "execution_count": null,
   "id": "41fd402f-688f-45d3-8193-886ec12b9895",
   "metadata": {},
   "outputs": [],
   "source": [
    "# compute R-squared for four regression versions:\n",
    "# (1) including all predictors from the csv file\n",
    "# (2) including predictors after taking care of the multi-collineraity issue\n",
    "# (3) (2) above + including only predictors with signficant contribution to the model\n",
    "# (4) (3) above + after preditor scaling"
   ]
  },
  {
   "cell_type": "markdown",
   "id": "35690755",
   "metadata": {},
   "source": [
    "#### Question 4 - Solution"
   ]
  },
  {
   "cell_type": "code",
   "execution_count": null,
   "id": "a5c2d8f8",
   "metadata": {},
   "outputs": [],
   "source": [
    "data_q4={\n",
    "    \"predictors\": [\"1. including all predictors\", \"2.predictors after taking care of the multi-collineraity issue\", \"3. only [redictors with signficant contribution +(2)\",\n",
    "                   \"4. after preditor scaling +(3)\"], \"R-squared\": [\"0.750\", \"0.749\", \"0.749\", \"0.749\"]\n",
    "                  \n",
    "}\n",
    "df_q4 = pd.DataFrame(data_q4)\n",
    "df_q4"
   ]
  },
  {
   "cell_type": "markdown",
   "id": "ab11db55-5c53-4daf-be78-bfaac37c61b4",
   "metadata": {},
   "source": [
    "#### Question 5"
   ]
  },
  {
   "cell_type": "code",
   "execution_count": null,
   "id": "9e1efc6c-546b-4f9b-8605-15f7a8f58788",
   "metadata": {},
   "outputs": [],
   "source": [
    "# what medical expenses may expect a person with the following data?\n",
    "# age=66, gender=female, BMI=35.4, weight=70.5, children=1, smoker=no, region=southeast\n",
    "\n",
    "# for this question only, include you computation *in the answer below* using model (3) from Question 4\n",
    "\n",
    "# !! you may face difficuly adding a constant (sm.add_constant()) to a DataFrame with a single row\n",
    "# try to search for solution, and in case you need a hint, you may find these links useful - read carefully:\n",
    "# https://github.com/statsmodels/statsmodels/issues/7057\n",
    "# https://www.statsmodels.org/0.9.0/generated/statsmodels.tools.tools.add_constant.html\n",
    "# in this specific case add_constant() has a somewhat unexpected behavior"
   ]
  },
  {
   "cell_type": "markdown",
   "id": "adb33095",
   "metadata": {},
   "source": [
    "#### Question 5 - Solution"
   ]
  },
  {
   "cell_type": "code",
   "execution_count": null,
   "id": "70547614-8c77-40c7-9982-1211a2ed0959",
   "metadata": {},
   "outputs": [],
   "source": [
    "person_medical_data = {\n",
    "    \"age\": 66,\n",
    "    \"BMI\": 35.4,\n",
    "    \"smoker_yes\": 0,\n",
    "    \"region_southeast\": 1,\n",
    "    \"region_southwest\": 0 \n",
    "    }\n",
    "\n",
    "person_medical_df = pd.DataFrame([person_medical_data])\n",
    "\n",
    "person_medical_df = sm.add_constant(person_medical_df, has_constant='add')\n",
    "\n",
    "predicted_medical_expenses = result_4_3.predict(person_medical_df)\n",
    "\n",
    "pd.DataFrame(predicted_medical_expenses, columns=[\"Predicted Medical Expenses\"])"
   ]
  }
 ],
 "metadata": {
  "kernelspec": {
   "display_name": "Python 3",
   "language": "python",
   "name": "python3"
  },
  "language_info": {
   "codemirror_mode": {
    "name": "ipython",
    "version": 3
   },
   "file_extension": ".py",
   "mimetype": "text/x-python",
   "name": "python",
   "nbconvert_exporter": "python",
   "pygments_lexer": "ipython3",
   "version": "3.13.3"
  }
 },
 "nbformat": 4,
 "nbformat_minor": 5
}
