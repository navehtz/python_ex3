{
 "cells": [
  {
   "cell_type": "code",
   "execution_count": 81,
   "id": "e1345b1b-071b-4853-b6d0-c732fd2284a8",
   "metadata": {
    "tags": []
   },
   "outputs": [],
   "source": [
    "import numpy as np\n",
    "import pandas as pd\n",
    "import statsmodels.api as sm"
   ]
  },
  {
   "cell_type": "code",
   "execution_count": 83,
   "id": "22f46665-c9f0-40d0-97fb-55c11a0060e2",
   "metadata": {
    "tags": []
   },
   "outputs": [
    {
     "name": "stdout",
     "output_type": "stream",
     "text": [
      "<class 'pandas.core.frame.DataFrame'>\n",
      "RangeIndex: 1250 entries, 0 to 1249\n",
      "Data columns (total 8 columns):\n",
      " #   Column    Non-Null Count  Dtype  \n",
      "---  ------    --------------  -----  \n",
      " 0   age       1250 non-null   int64  \n",
      " 1   gender    1250 non-null   object \n",
      " 2   BMI       1250 non-null   float64\n",
      " 3   weight    1248 non-null   float64\n",
      " 4   children  1250 non-null   int64  \n",
      " 5   smoker    1249 non-null   object \n",
      " 6   region    1250 non-null   object \n",
      " 7   expenses  1248 non-null   float64\n",
      "dtypes: float64(3), int64(2), object(3)\n",
      "memory usage: 78.3+ KB\n"
     ]
    }
   ],
   "source": [
    "df = pd.read_csv('insurance_data.csv')\n",
    "df.info()"
   ]
  },
  {
   "cell_type": "code",
   "execution_count": 85,
   "id": "479584e7-c40f-4b18-8da1-fcdb0cd72f65",
   "metadata": {
    "tags": []
   },
   "outputs": [],
   "source": [
    "# comments:\n",
    "\n",
    "# (1) there is a small amount of rows with missing values - they can be dropped\n",
    "\n",
    "# (2) you may want to make use of https://pandas.pydata.org/docs/reference/api/pandas.get_dummies.html\n",
    "# read through the function documentation carefully, and use dtype=float for the \"dtype\" parameter\n",
    "\n",
    "# (3) perform all your computations (solve the task) before the questions part, in a complete, clear and effective manner\n",
    "\n",
    "# (4) in the questions part only print answers based on your solution"
   ]
  },
  {
   "cell_type": "markdown",
   "id": "8a9fde00-e9c9-4c3a-9465-52ce924a08ff",
   "metadata": {},
   "source": [
    "#### Drop missing values, change categorical values to numerical and check multi-colinearity"
   ]
  },
  {
   "cell_type": "code",
   "execution_count": 88,
   "id": "583d3457-5cc5-4da5-86d4-d6032ab9e681",
   "metadata": {},
   "outputs": [
    {
     "name": "stdout",
     "output_type": "stream",
     "text": [
      "                       age       BMI    weight  children  expenses  \\\n",
      "age               1.000000  0.110487  0.095153 -0.047744  0.297255   \n",
      "BMI               0.110487  1.000000  0.702751  0.019617  0.204042   \n",
      "weight            0.095153  0.702751  1.000000  0.041461  0.139946   \n",
      "children         -0.047744  0.019617  0.041461  1.000000 -0.017320   \n",
      "expenses          0.297255  0.204042  0.139946 -0.017320  1.000000   \n",
      "gender_male      -0.027751  0.040130  0.031041 -0.035967  0.048353   \n",
      "smoker_yes       -0.028560  0.009467  0.018486 -0.022356  0.786897   \n",
      "region_northwest -0.009372 -0.143934 -0.098967  0.025904 -0.044917   \n",
      "region_southeast -0.018734  0.278327  0.234791  0.042594  0.081188   \n",
      "region_southwest  0.021022 -0.014695 -0.006866 -0.041533 -0.049730   \n",
      "\n",
      "                  gender_male  smoker_yes  region_northwest  region_southeast  \\\n",
      "age                 -0.027751   -0.028560         -0.009372         -0.018734   \n",
      "BMI                  0.040130    0.009467         -0.143934          0.278327   \n",
      "weight               0.031041    0.018486         -0.098967          0.234791   \n",
      "children            -0.035967   -0.022356          0.025904          0.042594   \n",
      "expenses             0.048353    0.786897         -0.044917          0.081188   \n",
      "gender_male          1.000000    0.070157         -0.008706          0.014111   \n",
      "smoker_yes           0.070157    1.000000         -0.041320          0.080366   \n",
      "region_northwest    -0.008706   -0.041320          1.000000         -0.350439   \n",
      "region_southeast     0.014111    0.080366         -0.350439          1.000000   \n",
      "region_southwest    -0.002994   -0.041536         -0.318148         -0.346617   \n",
      "\n",
      "                  region_southwest  \n",
      "age                       0.021022  \n",
      "BMI                      -0.014695  \n",
      "weight                   -0.006866  \n",
      "children                 -0.041533  \n",
      "expenses                 -0.049730  \n",
      "gender_male              -0.002994  \n",
      "smoker_yes               -0.041536  \n",
      "region_northwest         -0.318148  \n",
      "region_southeast         -0.346617  \n",
      "region_southwest          1.000000  \n"
     ]
    }
   ],
   "source": [
    "# Remove all the rows with the missing values\n",
    "df.dropna(inplace=True) \n",
    "\n",
    "# Change categorical values to numerical\n",
    "df_train = pd.get_dummies(df, columns=['gender', 'smoker', 'region'], drop_first=True, dtype=float)\n",
    "\n",
    "#check multi-colinearity\n",
    "print(df_train.corr())"
   ]
  },
  {
   "cell_type": "code",
   "execution_count": 118,
   "id": "b6aeec23-8a02-4d1d-b02b-6a0d24af32cd",
   "metadata": {},
   "outputs": [],
   "source": [
    "# Convert categorical variables into numerical dummy variables\n",
    "\n",
    "#df_train.head()\n",
    "\n",
    "# Shuffle the dataframe and reset the index\n",
    "#df_train = df_train.sample(frac=1).reset_index(drop=True)\n",
    "#df_train.head\n",
    "#x = df_train.drop(['weight', 'expenses', 'region_northwest', 'region_southwest', 'children', 'gender_male'], axis=1)\n",
    "#x = df_train.drop(['weight', 'expenses', 'children', 'gender_male'], axis=1)\n",
    "#x = df_train.drop(['weight', 'expenses', 'region_northwest', 'region_southwest', 'region_southeast', 'children', 'gender_male'], axis=1)\n",
    "x = df_train.drop(['weight', 'expenses', 'region_northwest', 'children', 'gender_male'], axis=1)\n",
    "y = df['expenses']"
   ]
  },
  {
   "cell_type": "markdown",
   "id": "7feaee35-228a-4939-9e61-61442f3baae0",
   "metadata": {},
   "source": [
    "#### Train model"
   ]
  },
  {
   "cell_type": "code",
   "execution_count": 121,
   "id": "907df03d-7513-491e-9a5a-1ef35ebeac87",
   "metadata": {},
   "outputs": [
    {
     "data": {
      "text/html": [
       "<table class=\"simpletable\">\n",
       "<caption>OLS Regression Results</caption>\n",
       "<tr>\n",
       "  <th>Dep. Variable:</th>        <td>expenses</td>     <th>  R-squared:         </th> <td>   0.749</td> \n",
       "</tr>\n",
       "<tr>\n",
       "  <th>Model:</th>                   <td>OLS</td>       <th>  Adj. R-squared:    </th> <td>   0.748</td> \n",
       "</tr>\n",
       "<tr>\n",
       "  <th>Method:</th>             <td>Least Squares</td>  <th>  F-statistic:       </th> <td>   740.7</td> \n",
       "</tr>\n",
       "<tr>\n",
       "  <th>Date:</th>             <td>Wed, 14 May 2025</td> <th>  Prob (F-statistic):</th>  <td>  0.00</td>  \n",
       "</tr>\n",
       "<tr>\n",
       "  <th>Time:</th>                 <td>17:14:34</td>     <th>  Log-Likelihood:    </th> <td> -12605.</td> \n",
       "</tr>\n",
       "<tr>\n",
       "  <th>No. Observations:</th>      <td>  1245</td>      <th>  AIC:               </th> <td>2.522e+04</td>\n",
       "</tr>\n",
       "<tr>\n",
       "  <th>Df Residuals:</th>          <td>  1239</td>      <th>  BIC:               </th> <td>2.525e+04</td>\n",
       "</tr>\n",
       "<tr>\n",
       "  <th>Df Model:</th>              <td>     5</td>      <th>                     </th>     <td> </td>    \n",
       "</tr>\n",
       "<tr>\n",
       "  <th>Covariance Type:</th>      <td>nonrobust</td>    <th>                     </th>     <td> </td>    \n",
       "</tr>\n",
       "</table>\n",
       "<table class=\"simpletable\">\n",
       "<tr>\n",
       "          <td></td>            <th>coef</th>     <th>std err</th>      <th>t</th>      <th>P>|t|</th>  <th>[0.025</th>    <th>0.975]</th>  \n",
       "</tr>\n",
       "<tr>\n",
       "  <th>const</th>            <td>-1.432e+04</td> <td> 1031.334</td> <td>  -13.889</td> <td> 0.000</td> <td>-1.63e+04</td> <td>-1.23e+04</td>\n",
       "</tr>\n",
       "<tr>\n",
       "  <th>age</th>              <td>  258.7057</td> <td>   12.327</td> <td>   20.987</td> <td> 0.000</td> <td>  234.522</td> <td>  282.890</td>\n",
       "</tr>\n",
       "<tr>\n",
       "  <th>BMI</th>              <td>  341.7059</td> <td>   29.583</td> <td>   11.551</td> <td> 0.000</td> <td>  283.668</td> <td>  399.744</td>\n",
       "</tr>\n",
       "<tr>\n",
       "  <th>smoker_yes</th>       <td> 2.394e+04</td> <td>  429.783</td> <td>   55.712</td> <td> 0.000</td> <td> 2.31e+04</td> <td> 2.48e+04</td>\n",
       "</tr>\n",
       "<tr>\n",
       "  <th>region_southeast</th> <td> -991.5815</td> <td>  428.987</td> <td>   -2.311</td> <td> 0.021</td> <td>-1833.203</td> <td> -149.960</td>\n",
       "</tr>\n",
       "<tr>\n",
       "  <th>region_southwest</th> <td> -938.8055</td> <td>  430.381</td> <td>   -2.181</td> <td> 0.029</td> <td>-1783.161</td> <td>  -94.450</td>\n",
       "</tr>\n",
       "</table>\n",
       "<table class=\"simpletable\">\n",
       "<tr>\n",
       "  <th>Omnibus:</th>       <td>268.187</td> <th>  Durbin-Watson:     </th> <td>   2.081</td> \n",
       "</tr>\n",
       "<tr>\n",
       "  <th>Prob(Omnibus):</th> <td> 0.000</td>  <th>  Jarque-Bera (JB):  </th> <td> 604.425</td> \n",
       "</tr>\n",
       "<tr>\n",
       "  <th>Skew:</th>          <td> 1.187</td>  <th>  Prob(JB):          </th> <td>5.63e-132</td>\n",
       "</tr>\n",
       "<tr>\n",
       "  <th>Kurtosis:</th>      <td> 5.453</td>  <th>  Cond. No.          </th> <td>    359.</td> \n",
       "</tr>\n",
       "</table><br/><br/>Notes:<br/>[1] Standard Errors assume that the covariance matrix of the errors is correctly specified."
      ],
      "text/latex": [
       "\\begin{center}\n",
       "\\begin{tabular}{lclc}\n",
       "\\toprule\n",
       "\\textbf{Dep. Variable:}    &     expenses     & \\textbf{  R-squared:         } &     0.749   \\\\\n",
       "\\textbf{Model:}            &       OLS        & \\textbf{  Adj. R-squared:    } &     0.748   \\\\\n",
       "\\textbf{Method:}           &  Least Squares   & \\textbf{  F-statistic:       } &     740.7   \\\\\n",
       "\\textbf{Date:}             & Wed, 14 May 2025 & \\textbf{  Prob (F-statistic):} &     0.00    \\\\\n",
       "\\textbf{Time:}             &     17:14:34     & \\textbf{  Log-Likelihood:    } &   -12605.   \\\\\n",
       "\\textbf{No. Observations:} &        1245      & \\textbf{  AIC:               } & 2.522e+04   \\\\\n",
       "\\textbf{Df Residuals:}     &        1239      & \\textbf{  BIC:               } & 2.525e+04   \\\\\n",
       "\\textbf{Df Model:}         &           5      & \\textbf{                     } &             \\\\\n",
       "\\textbf{Covariance Type:}  &    nonrobust     & \\textbf{                     } &             \\\\\n",
       "\\bottomrule\n",
       "\\end{tabular}\n",
       "\\begin{tabular}{lcccccc}\n",
       "                           & \\textbf{coef} & \\textbf{std err} & \\textbf{t} & \\textbf{P$> |$t$|$} & \\textbf{[0.025} & \\textbf{0.975]}  \\\\\n",
       "\\midrule\n",
       "\\textbf{const}             &   -1.432e+04  &     1031.334     &   -13.889  &         0.000        &    -1.63e+04    &    -1.23e+04     \\\\\n",
       "\\textbf{age}               &     258.7057  &       12.327     &    20.987  &         0.000        &      234.522    &      282.890     \\\\\n",
       "\\textbf{BMI}               &     341.7059  &       29.583     &    11.551  &         0.000        &      283.668    &      399.744     \\\\\n",
       "\\textbf{smoker\\_yes}       &    2.394e+04  &      429.783     &    55.712  &         0.000        &     2.31e+04    &     2.48e+04     \\\\\n",
       "\\textbf{region\\_southeast} &    -991.5815  &      428.987     &    -2.311  &         0.021        &    -1833.203    &     -149.960     \\\\\n",
       "\\textbf{region\\_southwest} &    -938.8055  &      430.381     &    -2.181  &         0.029        &    -1783.161    &      -94.450     \\\\\n",
       "\\bottomrule\n",
       "\\end{tabular}\n",
       "\\begin{tabular}{lclc}\n",
       "\\textbf{Omnibus:}       & 268.187 & \\textbf{  Durbin-Watson:     } &     2.081  \\\\\n",
       "\\textbf{Prob(Omnibus):} &   0.000 & \\textbf{  Jarque-Bera (JB):  } &   604.425  \\\\\n",
       "\\textbf{Skew:}          &   1.187 & \\textbf{  Prob(JB):          } & 5.63e-132  \\\\\n",
       "\\textbf{Kurtosis:}      &   5.453 & \\textbf{  Cond. No.          } &      359.  \\\\\n",
       "\\bottomrule\n",
       "\\end{tabular}\n",
       "%\\caption{OLS Regression Results}\n",
       "\\end{center}\n",
       "\n",
       "Notes: \\newline\n",
       " [1] Standard Errors assume that the covariance matrix of the errors is correctly specified."
      ],
      "text/plain": [
       "<class 'statsmodels.iolib.summary.Summary'>\n",
       "\"\"\"\n",
       "                            OLS Regression Results                            \n",
       "==============================================================================\n",
       "Dep. Variable:               expenses   R-squared:                       0.749\n",
       "Model:                            OLS   Adj. R-squared:                  0.748\n",
       "Method:                 Least Squares   F-statistic:                     740.7\n",
       "Date:                Wed, 14 May 2025   Prob (F-statistic):               0.00\n",
       "Time:                        17:14:34   Log-Likelihood:                -12605.\n",
       "No. Observations:                1245   AIC:                         2.522e+04\n",
       "Df Residuals:                    1239   BIC:                         2.525e+04\n",
       "Df Model:                           5                                         \n",
       "Covariance Type:            nonrobust                                         \n",
       "====================================================================================\n",
       "                       coef    std err          t      P>|t|      [0.025      0.975]\n",
       "------------------------------------------------------------------------------------\n",
       "const            -1.432e+04   1031.334    -13.889      0.000   -1.63e+04   -1.23e+04\n",
       "age                258.7057     12.327     20.987      0.000     234.522     282.890\n",
       "BMI                341.7059     29.583     11.551      0.000     283.668     399.744\n",
       "smoker_yes        2.394e+04    429.783     55.712      0.000    2.31e+04    2.48e+04\n",
       "region_southeast  -991.5815    428.987     -2.311      0.021   -1833.203    -149.960\n",
       "region_southwest  -938.8055    430.381     -2.181      0.029   -1783.161     -94.450\n",
       "==============================================================================\n",
       "Omnibus:                      268.187   Durbin-Watson:                   2.081\n",
       "Prob(Omnibus):                  0.000   Jarque-Bera (JB):              604.425\n",
       "Skew:                           1.187   Prob(JB):                    5.63e-132\n",
       "Kurtosis:                       5.453   Cond. No.                         359.\n",
       "==============================================================================\n",
       "\n",
       "Notes:\n",
       "[1] Standard Errors assume that the covariance matrix of the errors is correctly specified.\n",
       "\"\"\""
      ]
     },
     "execution_count": 121,
     "metadata": {},
     "output_type": "execute_result"
    }
   ],
   "source": [
    "x = sm.add_constant(x)\n",
    "model = sm.OLS(y, x)\n",
    "result = model.fit()\n",
    "\n",
    "result.summary()"
   ]
  },
  {
   "cell_type": "markdown",
   "id": "5fdc46eb-6745-496b-9f05-25da4f07fdb4",
   "metadata": {},
   "source": [
    "#### Questions (answer the questions, all computations should precede this part)"
   ]
  },
  {
   "cell_type": "markdown",
   "id": "3bf55d3b-5ab0-4a85-907a-265890678f32",
   "metadata": {},
   "source": [
    "#### Question 1"
   ]
  },
  {
   "cell_type": "code",
   "execution_count": 7,
   "id": "0e334107-1631-4a06-a27f-74cfe0c64bea",
   "metadata": {
    "tags": []
   },
   "outputs": [],
   "source": [
    "# did you remove any numerical predictor from the data based on multi-collinearity considerations?\n",
    "# if not - why, if yes - how did you decide on the predictor to remove?\n",
    "# print a short (one-sentence) answer using the print() command"
   ]
  },
  {
   "cell_type": "code",
   "execution_count": 8,
   "id": "07116f15-c5aa-4978-bbc9-6be74c8368a5",
   "metadata": {},
   "outputs": [],
   "source": [
    "#### Question 1 - Solution"
   ]
  },
  {
   "cell_type": "code",
   "execution_count": null,
   "id": "6ddd7248-2ae1-424b-876d-d3f14624467c",
   "metadata": {},
   "outputs": [],
   "source": []
  },
  {
   "cell_type": "markdown",
   "id": "e8dcf249-0a7a-48e6-81dc-b8ffb578f286",
   "metadata": {},
   "source": [
    "#### Question 2"
   ]
  },
  {
   "cell_type": "code",
   "execution_count": 10,
   "id": "aa4e2e3a-40af-41e6-a93f-c52c08e6d8c8",
   "metadata": {
    "tags": []
   },
   "outputs": [],
   "source": [
    "# what is the amount of money a person is likely to spend on medical expenses with each additional year of age?\n",
    "# write here the value itself (hardcoded) based on your inspection of the regression summary (after taking care of multi-collinearity)\n",
    "# display your answer as a dataframe (as in assignment 2)"
   ]
  },
  {
   "cell_type": "markdown",
   "id": "bbc895f4-027e-47f9-b864-03ac5f0c7115",
   "metadata": {},
   "source": [
    "#### Question 3"
   ]
  },
  {
   "cell_type": "code",
   "execution_count": 12,
   "id": "a2f20dcd-e1d1-4bdb-80ec-95ec821dd540",
   "metadata": {
    "tags": []
   },
   "outputs": [],
   "source": [
    "# consider the predictors: age, gender, BMI, weight, children, smoker\n",
    "# what predictors (out of this list) have significant contribution to predicting medical expenses?\n",
    "\n",
    "# report only signifnicant predictors sorted by their contribution to the prediction from highest to lowest\n",
    "# for each predictor specify if it has a positive or a negative effect on the medical expenses\n",
    "\n",
    "# display your answer as a dataframe with two columns: (1) predictor, (2) effect (positive or negative)\n",
    "# no need to include the constant (b_0) value"
   ]
  },
  {
   "cell_type": "markdown",
   "id": "3b37b6b9-4612-4b16-ba1f-d528c5edf60a",
   "metadata": {},
   "source": [
    "#### Question 4"
   ]
  },
  {
   "cell_type": "code",
   "execution_count": 14,
   "id": "41fd402f-688f-45d3-8193-886ec12b9895",
   "metadata": {},
   "outputs": [],
   "source": [
    "# compute R-squared for four regression versions:\n",
    "# (1) including all predictors from the csv file\n",
    "# (2) including predictors after taking care of the multi-collineraity issue\n",
    "# (3) (2) above + including only predictors with signficant contribution to the model\n",
    "# (4) (3) above + after preditor scaling"
   ]
  },
  {
   "cell_type": "markdown",
   "id": "ab11db55-5c53-4daf-be78-bfaac37c61b4",
   "metadata": {},
   "source": [
    "#### Question 5"
   ]
  },
  {
   "cell_type": "code",
   "execution_count": 16,
   "id": "9e1efc6c-546b-4f9b-8605-15f7a8f58788",
   "metadata": {},
   "outputs": [],
   "source": [
    "# what medical expenses may expect a person with the following data?\n",
    "# age=66, gender=female, BMI=35.4, weight=70.5, children=1, smoker=no, region=southeast\n",
    "\n",
    "# for this question only, include you computation *in the answer below* using model (3) from Question 4\n",
    "\n",
    "# !! you may face difficuly adding a constant (sm.add_constant()) to a DataFrame with a single row\n",
    "# try to search for solution, and in case you need a hint, you may find these links useful - read carefully:\n",
    "# https://github.com/statsmodels/statsmodels/issues/7057\n",
    "# https://www.statsmodels.org/0.9.0/generated/statsmodels.tools.tools.add_constant.html\n",
    "# in this specific case add_constant() has a somewhat unexpected behavior"
   ]
  },
  {
   "cell_type": "code",
   "execution_count": null,
   "id": "70547614-8c77-40c7-9982-1211a2ed0959",
   "metadata": {},
   "outputs": [],
   "source": []
  }
 ],
 "metadata": {
  "kernelspec": {
   "display_name": "Python 3 (ipykernel)",
   "language": "python",
   "name": "python3"
  },
  "language_info": {
   "codemirror_mode": {
    "name": "ipython",
    "version": 3
   },
   "file_extension": ".py",
   "mimetype": "text/x-python",
   "name": "python",
   "nbconvert_exporter": "python",
   "pygments_lexer": "ipython3",
   "version": "3.12.7"
  }
 },
 "nbformat": 4,
 "nbformat_minor": 5
}
