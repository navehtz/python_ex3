{
 "cells": [
  {
   "cell_type": "code",
   "execution_count": null,
   "id": "e1345b1b-071b-4853-b6d0-c732fd2284a8",
   "metadata": {
    "tags": []
   },
   "outputs": [],
   "source": [
    "import numpy as np\n",
    "import pandas as pd\n",
    "import statsmodels.api as sm\n",
    "from sklearn.preprocessing import StandardScaler"
   ]
  },
  {
   "cell_type": "code",
   "execution_count": null,
   "id": "22f46665-c9f0-40d0-97fb-55c11a0060e2",
   "metadata": {
    "tags": []
   },
   "outputs": [],
   "source": [
    "df = pd.read_csv('insurance_data.csv')\n",
    "df.info()"
   ]
  },
  {
   "cell_type": "code",
   "execution_count": null,
   "id": "479584e7-c40f-4b18-8da1-fcdb0cd72f65",
   "metadata": {
    "tags": []
   },
   "outputs": [],
   "source": [
    "# comments:\n",
    "\n",
    "# (1) there is a small amount of rows with missing values - they can be dropped\n",
    "\n",
    "# (2) you may want to make use of https://pandas.pydata.org/docs/reference/api/pandas.get_dummies.html\n",
    "# read through the function documentation carefully, and use dtype=float for the \"dtype\" parameter\n",
    "\n",
    "# (3) perform all your computations (solve the task) before the questions part, in a complete, clear and effective manner\n",
    "\n",
    "# (4) in the questions part only print answers based on your solution"
   ]
  },
  {
   "cell_type": "markdown",
   "id": "8a9fde00-e9c9-4c3a-9465-52ce924a08ff",
   "metadata": {},
   "source": [
    "#### Drop missing values, change categorical values to numerical and check multi-colinearity"
   ]
  },
  {
   "cell_type": "code",
   "execution_count": null,
   "id": "583d3457-5cc5-4da5-86d4-d6032ab9e681",
   "metadata": {
    "scrolled": true
   },
   "outputs": [],
   "source": [
    "# Remove all the rows with the missing values\n",
    "df.dropna(inplace=True) \n",
    "\n",
    "# Change categorical values to numerical\n",
    "df_no_dummies = pd.get_dummies(df, columns=['gender', 'smoker', 'region'], drop_first=True, dtype=float)\n",
    "\n",
    "#check multi-colinearity\n",
    "df_no_dummies.corr()"
   ]
  },
  {
   "cell_type": "code",
   "execution_count": null,
   "id": "b6aeec23-8a02-4d1d-b02b-6a0d24af32cd",
   "metadata": {},
   "outputs": [],
   "source": [
    "# We've tested the model with these different variables and came to conclusion which variable should stay,\n",
    "#based on multi-collinarity, correlation with expenses and CI.\n",
    "\n",
    "# Use the DataFrame with categorical variables already converted to dummy variables\n",
    "df_train = df_no_dummies\n",
    "\n",
    "# We tested several feature combinations and selected this one\n",
    "# based on multicollinearity, correlation with expenses, and confidence intervals\n",
    "\n",
    "# Examples of other tested combinations:\n",
    "#x_train = df_train.drop(['weight', 'expenses', 'region_northwest', 'region_southwest', 'children', 'gender_male'], axis=1)\n",
    "#x_train = df_train.drop(['weight', 'expenses', 'children', 'gender_male'], axis=1)\n",
    "#x_train = df_train.drop(['weight', 'expenses', 'region_northwest', 'region_southwest', 'region_southeast', 'children', 'gender_male'], axis=1)\n",
    "\n",
    "# Final selected features (dropping irrelevant or problematic columns)\n",
    "x_train = df_train.drop(['weight', 'expenses', 'region_northwest', 'children', 'gender_male'], axis=1)\n",
    "\n",
    "# Target variable (insurance cost)\n",
    "y_train = df['expenses']"
   ]
  },
  {
   "cell_type": "markdown",
   "id": "7feaee35-228a-4939-9e61-61442f3baae0",
   "metadata": {},
   "source": [
    "#### Train model"
   ]
  },
  {
   "cell_type": "code",
   "execution_count": null,
   "id": "907df03d-7513-491e-9a5a-1ef35ebeac87",
   "metadata": {},
   "outputs": [],
   "source": [
    "x_train = sm.add_constant(x_train)\n",
    "model = sm.OLS(y_train, x_train)\n",
    "result = model.fit()\n",
    "\n",
    "result.summary()"
   ]
  },
  {
   "cell_type": "markdown",
   "id": "8687ed18",
   "metadata": {},
   "source": [
    "#### Question 3 - Calculation"
   ]
  },
  {
   "cell_type": "code",
   "execution_count": null,
   "id": "461156d3",
   "metadata": {},
   "outputs": [],
   "source": [
    "df_scaled = df_train.copy()\n",
    "\n",
    "# Separate features and target\n",
    "x = df_scaled.drop(columns=[\"expenses\"])\n",
    "y = df_scaled[[\"expenses\"]]\n",
    "\n",
    "# Standardize features\n",
    "scaler = StandardScaler()\n",
    "scaler.fit(x)\n",
    "predictors_scaled = scaler.transform(x)\n",
    "x_scaled = pd.DataFrame(predictors_scaled, columns=x.columns, index=x.index)\n",
    "\n",
    "# Fit OLS regression model\n",
    "x_scaled = sm.add_constant(x_scaled)\n",
    "model = sm.OLS(y, x_scaled)\n",
    "result = model.fit()\n",
    "result.summary()"
   ]
  },
  {
   "cell_type": "markdown",
   "id": "37734f07",
   "metadata": {},
   "source": [
    "#### Question 4(1) - Calculation"
   ]
  },
  {
   "cell_type": "code",
   "execution_count": null,
   "id": "50b62fb3",
   "metadata": {},
   "outputs": [],
   "source": [
    "# Define features and target\n",
    "x = df_train.drop(['expenses'], axis=1)\n",
    "y = df_train['expenses']\n",
    "\n",
    "# Fit OLS regression model\n",
    "x = sm.add_constant(x)\n",
    "model = sm.OLS(y, x)\n",
    "result_4_1 = model.fit()\n",
    "\n",
    "result_4_1.summary()"
   ]
  },
  {
   "cell_type": "markdown",
   "id": "c16e874d",
   "metadata": {},
   "source": [
    "#### Question 4(2) - Calculation"
   ]
  },
  {
   "cell_type": "code",
   "execution_count": null,
   "id": "ca6060c4",
   "metadata": {},
   "outputs": [],
   "source": [
    "# Fit OLS model after taking care of the multi-collineraity issue\n",
    "x = df_train.drop(['expenses', 'weight'], axis=1)\n",
    "y = df_train['expenses']\n",
    "\n",
    "x = sm.add_constant(x)\n",
    "model = sm.OLS(y, x)\n",
    "result_4_2 = model.fit()\n",
    "\n",
    "result_4_2.summary()"
   ]
  },
  {
   "cell_type": "code",
   "execution_count": null,
   "id": "65b8c1b7",
   "metadata": {},
   "outputs": [],
   "source": [
    "# Checking correlation\n",
    "df_train.corr()"
   ]
  },
  {
   "cell_type": "markdown",
   "id": "0705abf8",
   "metadata": {},
   "source": [
    "#### Question 4(3) - Calculation"
   ]
  },
  {
   "cell_type": "code",
   "execution_count": null,
   "id": "849f8f0a",
   "metadata": {},
   "outputs": [],
   "source": [
    "# Fit OLS model after taking care of the above + including only predictors with signficant contribution to the model\n",
    "x = df_train.drop(['expenses','weight','children','gender_male','region_northwest'], axis=1)\n",
    "y = df_train['expenses']\n",
    "\n",
    "x = sm.add_constant(x)\n",
    "model = sm.OLS(y, x)\n",
    "result_4_3  = model.fit()\n",
    "\n",
    "result_4_3 .summary()"
   ]
  },
  {
   "cell_type": "markdown",
   "id": "b91716f7",
   "metadata": {},
   "source": [
    "#### Question 4(4) - Calculation"
   ]
  },
  {
   "cell_type": "code",
   "execution_count": null,
   "id": "055c5b44",
   "metadata": {},
   "outputs": [],
   "source": [
    "# Fit OLS model after taking care of the above + after preditor scaling\n",
    "x = df_train.drop(['expenses','weight','children','gender_male','region_northwest'], axis=1)\n",
    "scaler = StandardScaler()\n",
    "scaler.fit(x)\n",
    "predictors_scaled = scaler.transform(x)\n",
    "\n",
    "df_scaler=pd.DataFrame(predictors_scaled, columns=x.columns, index=df_train.index)\n",
    "x = sm.add_constant(df_scaler)\n",
    "y= df_train['expenses']\n",
    "\n",
    "\n",
    "model = sm.OLS(y, x)\n",
    "result_4_4 = model.fit()\n",
    "\n",
    "result_4_4.summary()"
   ]
  },
  {
   "cell_type": "markdown",
   "id": "5fdc46eb-6745-496b-9f05-25da4f07fdb4",
   "metadata": {},
   "source": [
    "#### Questions (answer the questions, all computations should precede this part)"
   ]
  },
  {
   "cell_type": "markdown",
   "id": "3bf55d3b-5ab0-4a85-907a-265890678f32",
   "metadata": {},
   "source": [
    "#### Question 1"
   ]
  },
  {
   "cell_type": "code",
   "execution_count": null,
   "id": "0e334107-1631-4a06-a27f-74cfe0c64bea",
   "metadata": {
    "tags": []
   },
   "outputs": [],
   "source": [
    "# did you remove any numerical predictor from the data based on multi-collinearity considerations?\n",
    "# if not - why, if yes - how did you decide on the predictor to remove?\n",
    "# print a short (one-sentence) answer using the print() command"
   ]
  },
  {
   "cell_type": "markdown",
   "id": "2f117eef",
   "metadata": {},
   "source": [
    "#### Question 1 - Solution"
   ]
  },
  {
   "cell_type": "code",
   "execution_count": null,
   "id": "6ddd7248-2ae1-424b-876d-d3f14624467c",
   "metadata": {},
   "outputs": [],
   "source": [
    "print(\"Yes we removed 'weight' because the multi-collinearity with BMI. We chose to remove 'weight' and not 'BMI' because 'weight' has 0.139946 collinarity with 'expenses' and 'BMI' has 0.204042 collinarity with 'expenses'\")"
   ]
  },
  {
   "cell_type": "markdown",
   "id": "e8dcf249-0a7a-48e6-81dc-b8ffb578f286",
   "metadata": {},
   "source": [
    "#### Question 2"
   ]
  },
  {
   "cell_type": "code",
   "execution_count": null,
   "id": "aa4e2e3a-40af-41e6-a93f-c52c08e6d8c8",
   "metadata": {
    "tags": []
   },
   "outputs": [],
   "source": [
    "# what is the amount of money a person is likely to spend on medical expenses with each additional year of age?\n",
    "# write here the value itself (hardcoded) based on your inspection of the regression summary (after taking care of multi-collinearity)\n",
    "# display your answer as a dataframe (as in assignment 2)"
   ]
  },
  {
   "cell_type": "markdown",
   "id": "a81d5a35",
   "metadata": {},
   "source": [
    "#### Question 2 - Solution"
   ]
  },
  {
   "cell_type": "code",
   "execution_count": null,
   "id": "39c8b0e6",
   "metadata": {},
   "outputs": [],
   "source": [
    "data = {\n",
    "    \"Description\": [\"The amount of money a person is likely to spend on medical expenses with each additional year of age\"],\n",
    "    \"Amount\": [258.7057]\n",
    "}\n",
    "\n",
    "df_amount_per_year = pd.DataFrame(data)\n",
    "\n",
    "df_amount_per_year"
   ]
  },
  {
   "cell_type": "markdown",
   "id": "bbc895f4-027e-47f9-b864-03ac5f0c7115",
   "metadata": {},
   "source": [
    "#### Question 3"
   ]
  },
  {
   "cell_type": "code",
   "execution_count": null,
   "id": "a2f20dcd-e1d1-4bdb-80ec-95ec821dd540",
   "metadata": {
    "tags": []
   },
   "outputs": [],
   "source": [
    "# consider the predictors: age, gender, BMI, weight, children, smoker\n",
    "# what predictors (out of this list) have significant contribution to predicting medical expenses?\n",
    "\n",
    "# report only signifnicant predictors sorted by their contribution to the prediction from highest to lowest\n",
    "# for each predictor specify if it has a positive or a negative effect on the medical expenses\n",
    "\n",
    "# display your answer as a dataframe with two columns: (1) predictor, (2) effect (positive or negative)\n",
    "# no need to include the constant (b_0) value"
   ]
  },
  {
   "cell_type": "markdown",
   "id": "9d5faa21",
   "metadata": {},
   "source": [
    "#### Question 3 - solution"
   ]
  },
  {
   "cell_type": "code",
   "execution_count": null,
   "id": "89fb2d64",
   "metadata": {},
   "outputs": [],
   "source": [
    "data_q3 = {\n",
    "    \"predictor\": [\"smoking\",\"age\", \"BMI\"],\n",
    "    \"effect\": [\"positive\", \"positive\",\"positive\"]\n",
    "}\n",
    "\n",
    "pd.DataFrame(data_q3)"
   ]
  },
  {
   "cell_type": "markdown",
   "id": "3b37b6b9-4612-4b16-ba1f-d528c5edf60a",
   "metadata": {},
   "source": [
    "#### Question 4"
   ]
  },
  {
   "cell_type": "code",
   "execution_count": null,
   "id": "41fd402f-688f-45d3-8193-886ec12b9895",
   "metadata": {},
   "outputs": [],
   "source": [
    "# compute R-squared for four regression versions:\n",
    "# (1) including all predictors from the csv file\n",
    "# (2) including predictors after taking care of the multi-collineraity issue\n",
    "# (3) (2) above + including only predictors with signficant contribution to the model\n",
    "# (4) (3) above + after preditor scaling"
   ]
  },
  {
   "cell_type": "markdown",
   "id": "35690755",
   "metadata": {},
   "source": [
    "#### Question 4 - Solution"
   ]
  },
  {
   "cell_type": "code",
   "execution_count": null,
   "id": "a5c2d8f8",
   "metadata": {},
   "outputs": [],
   "source": [
    "data_q4={\n",
    "    \"predictors\": [\"1. including all predictors\", \"2. predictors after taking care of the multi-collineraity issue\", \"3. (2) + predictors with signficant contribution\",\n",
    "                   \"4. (3) + after preditor scaling\"], \"R-squared\": [\"0.750\", \"0.750\", \"0.749\", \"0.749\"]\n",
    "                  \n",
    "}\n",
    "df_q4 = pd.DataFrame(data_q4)\n",
    "df_q4"
   ]
  },
  {
   "cell_type": "markdown",
   "id": "ab11db55-5c53-4daf-be78-bfaac37c61b4",
   "metadata": {},
   "source": [
    "#### Question 5"
   ]
  },
  {
   "cell_type": "code",
   "execution_count": null,
   "id": "9e1efc6c-546b-4f9b-8605-15f7a8f58788",
   "metadata": {},
   "outputs": [],
   "source": [
    "# what medical expenses may expect a person with the following data?\n",
    "# age=66, gender=female, BMI=35.4, weight=70.5, children=1, smoker=no, region=southeast\n",
    "\n",
    "# for this question only, include you computation *in the answer below* using model (3) from Question 4\n",
    "\n",
    "# !! you may face difficuly adding a constant (sm.add_constant()) to a DataFrame with a single row\n",
    "# try to search for solution, and in case you need a hint, you may find these links useful - read carefully:\n",
    "# https://github.com/statsmodels/statsmodels/issues/7057\n",
    "# https://www.statsmodels.org/0.9.0/generated/statsmodels.tools.tools.add_constant.html\n",
    "# in this specific case add_constant() has a somewhat unexpected behavior"
   ]
  },
  {
   "cell_type": "markdown",
   "id": "adb33095",
   "metadata": {},
   "source": [
    "#### Question 5 - Solution"
   ]
  },
  {
   "cell_type": "code",
   "execution_count": null,
   "id": "70547614-8c77-40c7-9982-1211a2ed0959",
   "metadata": {},
   "outputs": [],
   "source": [
    "# Define new person's medical data\n",
    "person_medical_data = {\n",
    "    \"age\": 66,\n",
    "    \"BMI\": 35.4,\n",
    "    \"smoker_yes\": 0,\n",
    "    \"region_southeast\": 1,\n",
    "    \"region_southwest\": 0 \n",
    "}\n",
    "\n",
    "# Create DataFrame and add constant term for prediction\n",
    "person_medical_df = pd.DataFrame([person_medical_data])\n",
    "person_medical_df = sm.add_constant(person_medical_df, has_constant='add')\n",
    "\n",
    "# Predict medical expenses using result_4_3 model\n",
    "predicted_medical_expenses = result_4_3.predict(person_medical_df)\n",
    "\n",
    "# Display prediction as DataFrame\n",
    "pd.DataFrame(predicted_medical_expenses, columns=[\"Predicted Medical Expenses\"])"
   ]
  }
 ],
 "metadata": {
  "kernelspec": {
   "display_name": "Python 3 (ipykernel)",
   "language": "python",
   "name": "python3"
  },
  "language_info": {
   "codemirror_mode": {
    "name": "ipython",
    "version": 3
   },
   "file_extension": ".py",
   "mimetype": "text/x-python",
   "name": "python",
   "nbconvert_exporter": "python",
   "pygments_lexer": "ipython3",
   "version": "3.12.7"
  }
 },
 "nbformat": 4,
 "nbformat_minor": 5
}
